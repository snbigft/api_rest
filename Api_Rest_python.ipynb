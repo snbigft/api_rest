{
  "cells": [
    {
      "cell_type": "markdown",
      "metadata": {
        "id": "view-in-github",
        "colab_type": "text"
      },
      "source": [
        "<a href=\"https://colab.research.google.com/github/snbigft/api_rest/blob/main/Api_Rest_python.ipynb\" target=\"_parent\"><img src=\"https://colab.research.google.com/assets/colab-badge.svg\" alt=\"Open In Colab\"/></a>"
      ]
    },
    {
      "cell_type": "code",
      "execution_count": 1,
      "metadata": {
        "colab": {
          "base_uri": "https://localhost:8080/"
        },
        "id": "PTnCuAUKesc1",
        "outputId": "4428a95d-dd33-453a-bd05-bbd623d895b0"
      },
      "outputs": [
        {
          "output_type": "stream",
          "name": "stdout",
          "text": [
            "Requirement already satisfied: fastapi in /usr/local/lib/python3.11/dist-packages (0.115.11)\n",
            "Requirement already satisfied: uvicorn in /usr/local/lib/python3.11/dist-packages (0.34.0)\n",
            "Requirement already satisfied: psycopg2-binary in /usr/local/lib/python3.11/dist-packages (2.9.10)\n",
            "Requirement already satisfied: nest-asyncio in /usr/local/lib/python3.11/dist-packages (1.6.0)\n",
            "Requirement already satisfied: pyngrok in /usr/local/lib/python3.11/dist-packages (7.2.3)\n",
            "Requirement already satisfied: starlette<0.47.0,>=0.40.0 in /usr/local/lib/python3.11/dist-packages (from fastapi) (0.46.0)\n",
            "Requirement already satisfied: pydantic!=1.8,!=1.8.1,!=2.0.0,!=2.0.1,!=2.1.0,<3.0.0,>=1.7.4 in /usr/local/lib/python3.11/dist-packages (from fastapi) (2.10.6)\n",
            "Requirement already satisfied: typing-extensions>=4.8.0 in /usr/local/lib/python3.11/dist-packages (from fastapi) (4.12.2)\n",
            "Requirement already satisfied: click>=7.0 in /usr/local/lib/python3.11/dist-packages (from uvicorn) (8.1.8)\n",
            "Requirement already satisfied: h11>=0.8 in /usr/local/lib/python3.11/dist-packages (from uvicorn) (0.14.0)\n",
            "Requirement already satisfied: PyYAML>=5.1 in /usr/local/lib/python3.11/dist-packages (from pyngrok) (6.0.2)\n",
            "Requirement already satisfied: annotated-types>=0.6.0 in /usr/local/lib/python3.11/dist-packages (from pydantic!=1.8,!=1.8.1,!=2.0.0,!=2.0.1,!=2.1.0,<3.0.0,>=1.7.4->fastapi) (0.7.0)\n",
            "Requirement already satisfied: pydantic-core==2.27.2 in /usr/local/lib/python3.11/dist-packages (from pydantic!=1.8,!=1.8.1,!=2.0.0,!=2.0.1,!=2.1.0,<3.0.0,>=1.7.4->fastapi) (2.27.2)\n",
            "Requirement already satisfied: anyio<5,>=3.6.2 in /usr/local/lib/python3.11/dist-packages (from starlette<0.47.0,>=0.40.0->fastapi) (3.7.1)\n",
            "Requirement already satisfied: idna>=2.8 in /usr/local/lib/python3.11/dist-packages (from anyio<5,>=3.6.2->starlette<0.47.0,>=0.40.0->fastapi) (3.10)\n",
            "Requirement already satisfied: sniffio>=1.1 in /usr/local/lib/python3.11/dist-packages (from anyio<5,>=3.6.2->starlette<0.47.0,>=0.40.0->fastapi) (1.3.1)\n"
          ]
        }
      ],
      "source": [
        "!pip install fastapi uvicorn psycopg2-binary nest-asyncio pyngrok\n",
        "\n"
      ]
    },
    {
      "cell_type": "code",
      "execution_count": null,
      "metadata": {
        "colab": {
          "base_uri": "https://localhost:8080/"
        },
        "id": "S4GucEnKePed",
        "outputId": "d0c0fc12-0e02-4604-8611-8e9099a1f70d"
      },
      "outputs": [
        {
          "output_type": "stream",
          "name": "stdout",
          "text": [
            "🔥 API en ejecución en: https://ea5e-34-80-188-184.ngrok-free.app/docs\n"
          ]
        },
        {
          "output_type": "stream",
          "name": "stderr",
          "text": [
            "INFO:     Started server process [1338]\n",
            "INFO:     Waiting for application startup.\n",
            "INFO:     Application startup complete.\n",
            "INFO:     Uvicorn running on http://0.0.0.0:8000 (Press CTRL+C to quit)\n"
          ]
        },
        {
          "output_type": "stream",
          "name": "stdout",
          "text": [
            "INFO:     139.47.125.21:0 - \"GET /docs HTTP/1.1\" 200 OK\n",
            "INFO:     139.47.125.21:0 - \"GET /openapi.json HTTP/1.1\" 200 OK\n",
            "INFO:     139.47.125.21:0 - \"GET /customers?query=test HTTP/1.1\" 200 OK\n",
            "INFO:     139.47.125.21:0 - \"GET /customers?query=nombre HTTP/1.1\" 200 OK\n"
          ]
        }
      ],
      "source": [
        "import json\n",
        "import psycopg2\n",
        "import nest_asyncio\n",
        "import uvicorn\n",
        "from fastapi import FastAPI, Query\n",
        "from pyngrok import ngrok\n",
        "\n",
        "# Aplicar nest_asyncio para evitar conflictos de bucle de eventos en Colab\n",
        "nest_asyncio.apply()\n",
        "\n",
        "# Configurar ngrok con tu authtoken\n",
        "ngrok.set_auth_token(\"2tfZlVTSTp5jhPzAVI8iNoKRIwq_6NKUQdERg7XoqNdkJsuNA\")\n",
        "\n",
        "# Configuración de la base de datos\n",
        "DB_HOST = \"ep-snowy-dawn-a8omlpke-pooler.eastus2.azure.neon.tech\"\n",
        "DB_NAME = \"neondb\"\n",
        "DB_USER = \"neondb_owner\"\n",
        "DB_PASSWORD = \"npg_BcpnId62FYhS\"\n",
        "\n",
        "# Función para conectar a PostgreSQL\n",
        "def get_db_connection():\n",
        "    return psycopg2.connect(\n",
        "        host=DB_HOST,\n",
        "        dbname=DB_NAME,\n",
        "        user=DB_USER,\n",
        "        password=DB_PASSWORD,\n",
        "        sslmode=\"require\"\n",
        "    )\n",
        "\n",
        "# Crear la API con FastAPI\n",
        "app = FastAPI()\n",
        "\n",
        "@app.get(\"/customers\")\n",
        "def get_customer_data(query: str = Query(..., description=\"Valor a buscar en customer_data\")):\n",
        "    try:\n",
        "        conn = get_db_connection()\n",
        "        cursor = conn.cursor()\n",
        "\n",
        "        # Ejecutar consulta con parámetro seguro\n",
        "        cursor.execute(\"SELECT customer_data FROM CUSTOMERS WHERE customer_data::text ILIKE %s\", (f\"%{query}%\",))\n",
        "        rows = cursor.fetchall()\n",
        "\n",
        "        # Devolver los datos directamente sin intentar cargarlos como JSON\n",
        "        result = [row[0] for row in rows]\n",
        "\n",
        "        cursor.close()\n",
        "        conn.close()\n",
        "\n",
        "        return {\"results\": result}\n",
        "\n",
        "    except Exception as e:\n",
        "        return {\"error\": str(e)}\n",
        "\n",
        "# Exponer la API con ngrok en Google Colab\n",
        "public_url = ngrok.connect(8000).public_url\n",
        "print(f\"🔥 API en ejecución en: {public_url}/docs\")\n",
        "\n",
        "# Iniciar el servidor uvicorn sin llamar directamente a asyncio.run()\n",
        "uvicorn.run(app, host=\"0.0.0.0\", port=8000)\n"
      ]
    }
  ],
  "metadata": {
    "colab": {
      "provenance": [],
      "authorship_tag": "ABX9TyOJQ8DAM8Iwuw+Vm7EHILPM",
      "include_colab_link": true
    },
    "kernelspec": {
      "display_name": "Python 3",
      "name": "python3"
    },
    "language_info": {
      "name": "python"
    }
  },
  "nbformat": 4,
  "nbformat_minor": 0
}