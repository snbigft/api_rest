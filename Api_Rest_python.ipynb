{
  "cells": [
    {
      "cell_type": "markdown",
      "metadata": {
        "id": "view-in-github",
        "colab_type": "text"
      },
      "source": [
        "<a href=\"https://colab.research.google.com/github/snbigft/api_rest/blob/main/Api_Rest_python.ipynb\" target=\"_parent\"><img src=\"https://colab.research.google.com/assets/colab-badge.svg\" alt=\"Open In Colab\"/></a>"
      ]
    },
    {
      "cell_type": "code",
      "execution_count": null,
      "metadata": {
        "colab": {
          "base_uri": "https://localhost:8080/"
        },
        "id": "PTnCuAUKesc1",
        "outputId": "2dfe2627-f590-4e8f-b5ea-fc6552fcaf22"
      },
      "outputs": [
        {
          "output_type": "stream",
          "name": "stdout",
          "text": [
            "Requirement already satisfied: fastapi in /usr/local/lib/python3.11/dist-packages (0.115.11)\n",
            "Requirement already satisfied: uvicorn in /usr/local/lib/python3.11/dist-packages (0.34.0)\n",
            "Requirement already satisfied: psycopg2-binary in /usr/local/lib/python3.11/dist-packages (2.9.10)\n",
            "Requirement already satisfied: nest-asyncio in /usr/local/lib/python3.11/dist-packages (1.6.0)\n",
            "Requirement already satisfied: pyngrok in /usr/local/lib/python3.11/dist-packages (7.2.3)\n",
            "Requirement already satisfied: starlette<0.47.0,>=0.40.0 in /usr/local/lib/python3.11/dist-packages (from fastapi) (0.46.0)\n",
            "Requirement already satisfied: pydantic!=1.8,!=1.8.1,!=2.0.0,!=2.0.1,!=2.1.0,<3.0.0,>=1.7.4 in /usr/local/lib/python3.11/dist-packages (from fastapi) (2.10.6)\n",
            "Requirement already satisfied: typing-extensions>=4.8.0 in /usr/local/lib/python3.11/dist-packages (from fastapi) (4.12.2)\n",
            "Requirement already satisfied: click>=7.0 in /usr/local/lib/python3.11/dist-packages (from uvicorn) (8.1.8)\n",
            "Requirement already satisfied: h11>=0.8 in /usr/local/lib/python3.11/dist-packages (from uvicorn) (0.14.0)\n",
            "Requirement already satisfied: PyYAML>=5.1 in /usr/local/lib/python3.11/dist-packages (from pyngrok) (6.0.2)\n",
            "Requirement already satisfied: annotated-types>=0.6.0 in /usr/local/lib/python3.11/dist-packages (from pydantic!=1.8,!=1.8.1,!=2.0.0,!=2.0.1,!=2.1.0,<3.0.0,>=1.7.4->fastapi) (0.7.0)\n",
            "Requirement already satisfied: pydantic-core==2.27.2 in /usr/local/lib/python3.11/dist-packages (from pydantic!=1.8,!=1.8.1,!=2.0.0,!=2.0.1,!=2.1.0,<3.0.0,>=1.7.4->fastapi) (2.27.2)\n",
            "Requirement already satisfied: anyio<5,>=3.6.2 in /usr/local/lib/python3.11/dist-packages (from starlette<0.47.0,>=0.40.0->fastapi) (3.7.1)\n",
            "Requirement already satisfied: idna>=2.8 in /usr/local/lib/python3.11/dist-packages (from anyio<5,>=3.6.2->starlette<0.47.0,>=0.40.0->fastapi) (3.10)\n",
            "Requirement already satisfied: sniffio>=1.1 in /usr/local/lib/python3.11/dist-packages (from anyio<5,>=3.6.2->starlette<0.47.0,>=0.40.0->fastapi) (1.3.1)\n"
          ]
        }
      ],
      "source": [
        "!pip install fastapi uvicorn psycopg2-binary nest-asyncio pyngrok\n",
        "\n"
      ]
    },
    {
      "cell_type": "code",
      "execution_count": null,
      "metadata": {
        "colab": {
          "base_uri": "https://localhost:8080/"
        },
        "id": "S4GucEnKePed",
        "outputId": "cd55cb3a-b8da-4d87-9977-1ac4f4c0fc3d"
      },
      "outputs": [
        {
          "metadata": {
            "tags": null
          },
          "name": "stdout",
          "output_type": "stream",
          "text": [
            "🔥 API en ejecución en: https://b896-35-223-217-142.ngrok-free.app/docs\n"
          ]
        },
        {
          "metadata": {
            "tags": null
          },
          "name": "stderr",
          "output_type": "stream",
          "text": [
            "/usr/local/lib/python3.11/dist-packages/uvicorn/protocols/websockets/auto.py:19: RuntimeWarning: coroutine 'Server.serve' was never awaited\n",
            "  from uvicorn.protocols.websockets.websockets_impl import WebSocketProtocol\n",
            "RuntimeWarning: Enable tracemalloc to get the object allocation traceback\n",
            "INFO:     Started server process [817]\n",
            "INFO:     Waiting for application startup.\n",
            "INFO:     Application startup complete.\n",
            "INFO:     Uvicorn running on http://0.0.0.0:8000 (Press CTRL+C to quit)\n"
          ]
        },
        {
          "metadata": {
            "tags": null
          },
          "name": "stdout",
          "output_type": "stream",
          "text": [
            "INFO:     139.47.125.21:0 - \"GET /customers?query=imone HTTP/1.1\" 200 OK\n",
            "INFO:     139.47.125.21:0 - \"GET /favicon.ico HTTP/1.1\" 404 Not Found\n",
            "INFO:     139.47.125.21:0 - \"GET /docs HTTP/1.1\" 200 OK\n",
            "INFO:     139.47.125.21:0 - \"GET /openapi.json HTTP/1.1\" 200 OK\n",
            "INFO:     139.47.125.21:0 - \"GET /customers?query=imone HTTP/1.1\" 200 OK\n",
            "INFO:     139.47.125.21:0 - \"GET /customers?query=677 HTTP/1.1\" 200 OK\n",
            "INFO:     139.47.125.21:0 - \"GET /customers?query=s HTTP/1.1\" 200 OK\n",
            "INFO:     139.47.125.21:0 - \"GET /customers?query=mascota HTTP/1.1\" 200 OK\n",
            "INFO:     139.47.125.21:0 - \"GET /customers?query=apellido HTTP/1.1\" 200 OK\n"
          ]
        }
      ],
      "source": [
        "import json\n",
        "import psycopg2\n",
        "import nest_asyncio\n",
        "import uvicorn\n",
        "from fastapi import FastAPI, Query\n",
        "from pyngrok import ngrok\n",
        "\n",
        "# Aplicar nest_asyncio para evitar conflictos de bucle de eventos en Colab\n",
        "nest_asyncio.apply()\n",
        "\n",
        "# Configurar ngrok con tu authtoken\n",
        "ngrok.set_auth_token(\"YOUR_NGROK_AUTHTOKEN\")\n",
        "\n",
        "# Configuración de la base de datos\n",
        "DB_HOST = \"ep-snowy-dawn-a8omlpke-pooler.eastus2.azure.neon.tech\"\n",
        "DB_NAME = \"neondb\"\n",
        "DB_USER = \"neondb_owner\"\n",
        "DB_PASSWORD = \"npg_BcpnId62FYhS\"\n",
        "\n",
        "# Función para conectar a PostgreSQL\n",
        "def get_db_connection():\n",
        "    return psycopg2.connect(\n",
        "        host=DB_HOST,\n",
        "        dbname=DB_NAME,\n",
        "        user=DB_USER,\n",
        "        password=DB_PASSWORD,\n",
        "        sslmode=\"require\"\n",
        "    )\n",
        "\n",
        "# Crear la API con FastAPI\n",
        "app = FastAPI()\n",
        "\n",
        "@app.get(\"/customers\")\n",
        "def get_customer_data(query: str = Query(..., description=\"Valor a buscar en customer_data\")):\n",
        "    try:\n",
        "        conn = get_db_connection()\n",
        "        cursor = conn.cursor()\n",
        "\n",
        "        # Ejecutar consulta con parámetro seguro\n",
        "        cursor.execute(\"SELECT customer_data FROM CUSTOMERS WHERE customer_data::text ILIKE %s\", (f\"%{query}%\",))\n",
        "        rows = cursor.fetchall()\n",
        "\n",
        "        # Devolver los datos directamente sin intentar cargarlos como JSON\n",
        "        result = [row[0] for row in rows]\n",
        "\n",
        "        cursor.close()\n",
        "        conn.close()\n",
        "\n",
        "        return {\"results\": result}\n",
        "\n",
        "    except Exception as e:\n",
        "        return {\"error\": str(e)}\n",
        "\n",
        "# Exponer la API con ngrok en Google Colab\n",
        "public_url = ngrok.connect(8000).public_url\n",
        "print(f\"🔥 API en ejecución en: {public_url}/customers?query=imone\")\n",
        "\n",
        "# Iniciar el servidor uvicorn sin llamar directamente a asyncio.run()\n",
        "uvicorn.run(app, host=\"0.0.0.0\", port=8000)\n"
      ]
    }
  ],
  "metadata": {
    "colab": {
      "provenance": [],
      "authorship_tag": "ABX9TyOxtyb7cwidD1uZtgWWKH1K",
      "include_colab_link": true
    },
    "kernelspec": {
      "display_name": "Python 3",
      "name": "python3"
    },
    "language_info": {
      "name": "python"
    }
  },
  "nbformat": 4,
  "nbformat_minor": 0
}